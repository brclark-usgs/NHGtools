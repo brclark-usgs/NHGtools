{
 "cells": [
  {
   "cell_type": "markdown",
   "metadata": {},
   "source": [
    "# NHGtools\n",
    "\n",
    "use the NHGtools to create a regional model grid of the Mississippi Embayment Regional Aquifer Study area"
   ]
  },
  {
   "cell_type": "code",
   "execution_count": 1,
   "metadata": {
    "collapsed": true
   },
   "outputs": [],
   "source": [
    "import sys\n",
    "sys.path.append('../')\n",
    "import NHGtools as nu"
   ]
  },
  {
   "cell_type": "markdown",
   "metadata": {},
   "source": [
    "### Define coordinates of MERAS study area"
   ]
  },
  {
   "cell_type": "code",
   "execution_count": 2,
   "metadata": {
    "collapsed": true
   },
   "outputs": [],
   "source": [
    "# extent of meras study area in Albers projection\n",
    "merasll = 179844.69,939365.02\n",
    "merasur = 811872.82,1603420.72\n",
    "merasShp = {'ll':merasll,\n",
    "            'lr':[merasur[0], merasll[1]],\n",
    "            'ur':merasur,\n",
    "            'ul':[merasll[0], merasur[1]]}"
   ]
  },
  {
   "cell_type": "markdown",
   "metadata": {},
   "source": [
    "### fit2national\n",
    "\n",
    "use the 'fit2national' function to snap the MERAS coordinates to the NHG with a cell size of 10 km"
   ]
  },
  {
   "cell_type": "code",
   "execution_count": 3,
   "metadata": {
    "collapsed": true
   },
   "outputs": [],
   "source": [
    "m = nu.fit2national(merasShp, res=10000)"
   ]
  },
  {
   "cell_type": "markdown",
   "metadata": {},
   "source": [
    "### create the new grid aligned to the NHG\n",
    "\n",
    "use the fctype option to create the grid in the geopackage format"
   ]
  },
  {
   "cell_type": "code",
   "execution_count": 4,
   "metadata": {},
   "outputs": [
    {
     "name": "stdout",
     "output_type": "stream",
     "text": [
      "63 of 64 cols"
     ]
    }
   ],
   "source": [
    "nu.gcGrid(m['ll'], m['lr'], m['ur'], 10000, 'MERAS10km',\n",
    "       fctype='gpkg')"
   ]
  },
  {
   "cell_type": "code",
   "execution_count": null,
   "metadata": {
    "collapsed": true
   },
   "outputs": [],
   "source": []
  }
 ],
 "metadata": {
  "kernelspec": {
   "display_name": "Python 3",
   "language": "python",
   "name": "python3"
  },
  "language_info": {
   "codemirror_mode": {
    "name": "ipython",
    "version": 3
   },
   "file_extension": ".py",
   "mimetype": "text/x-python",
   "name": "python",
   "nbconvert_exporter": "python",
   "pygments_lexer": "ipython3",
   "version": "3.6.2"
  }
 },
 "nbformat": 4,
 "nbformat_minor": 2
}
