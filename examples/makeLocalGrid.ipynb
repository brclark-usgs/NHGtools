{
 "cells": [
  {
   "cell_type": "markdown",
   "metadata": {},
   "source": [
    "# NHGtools\n",
    "\n",
    "Use the NHGtools to create a regional model grid of the Mississippi Embayment Regional Aquifer Study area that aligns with the National Hydrogeologic Grid"
   ]
  },
  {
   "cell_type": "code",
   "execution_count": 1,
   "metadata": {},
   "outputs": [],
   "source": [
    "import sys\n",
    "sys.path.append('../')\n",
    "import NHGtools as nt"
   ]
  },
  {
   "cell_type": "markdown",
   "metadata": {},
   "source": [
    "### Define desired area\n",
    "\n",
    "For this example, we'll intially use coordinates of the previous MERAS study area.\n",
    "We also need to define a name for the output feature class, and a factor to scale the new grid. The fac is set to 10, which means the new grid cells will be 10 times larger than the NHG grid cells, or 10 km.\n",
    "\n",
    "The default output format for the feature class is a geopackage. This can be changed to a shapefile by specifying the fctype as 'shp'."
   ]
  },
  {
   "cell_type": "code",
   "execution_count": 2,
   "metadata": {},
   "outputs": [],
   "source": [
    "# extent of meras study area in Albers projection\n",
    "\n",
    "merasll = 179844.69,939365.02\n",
    "merasur = 811872.82,1603420.72\n",
    "merasShp = {'ll':merasll,\n",
    "            'lr':[merasur[0], merasll[1]],\n",
    "            'ur':merasur,\n",
    "            'ul':[merasll[0], merasur[1]]}\n",
    "\n",
    "fc = 'MERAS10km' # name of output feature class\n",
    "fac = 10\n",
    "fctype = 'gpkg'"
   ]
  },
  {
   "cell_type": "code",
   "execution_count": 3,
   "metadata": {},
   "outputs": [],
   "source": [
    "# instantiate the class\n",
    "ng = nt.NHGtools.nhg(merasShp, fc=fc, fac=fac, fctype=fctype)"
   ]
  },
  {
   "cell_type": "markdown",
   "metadata": {},
   "source": [
    "### Create a polygon feature class of the new grid aligned to the NHG"
   ]
  },
  {
   "cell_type": "code",
   "execution_count": 4,
   "metadata": {},
   "outputs": [
    {
     "name": "stdout",
     "output_type": "stream",
     "text": [
      "national grid\n",
      "{'ll': [-2553045.0, -92715.0], 'lr': [2426955.0, -92715.0], 'ur': [2426955.0, 3907285.0], 'ul': [-2553045.0, 3907285.0]}\n",
      "new local extent\n",
      "{'ll': [176955.0, 937285.0], 'ur': [816955.0, 1607285.0], 'lr': [816955.0, 937285.0], 'ul': [176955.0, 1607285.0]}\n",
      "starting row and col of national grid\n",
      "231 274\n",
      "number of rows, columns, and cellsize of new grid\n",
      "67 64 10000\n",
      "new cols and rows 64 67\n",
      "64 of 64 cols"
     ]
    }
   ],
   "source": [
    "ng.customPolyGrid()"
   ]
  },
  {
   "cell_type": "markdown",
   "metadata": {},
   "source": [
    "### Rasterize the newly created polygons if desired"
   ]
  },
  {
   "cell_type": "code",
   "execution_count": 4,
   "metadata": {},
   "outputs": [
    {
     "name": "stdout",
     "output_type": "stream",
     "text": [
      "national grid\n",
      "{'ll': [-2553045.0, -92715.0], 'lr': [2426955.0, -92715.0], 'ur': [2426955.0, 3907285.0], 'ul': [-2553045.0, 3907285.0]}\n",
      "new local extent\n",
      "{'ll': [176955.0, 937285.0], 'ur': [816955.0, 1607285.0], 'lr': [816955.0, 937285.0], 'ul': [176955.0, 1607285.0]}\n",
      "starting row and col of national grid\n",
      "231 274\n",
      "number of rows, columns, and cellsize of new grid\n",
      "67 64 10000\n",
      "Rasterizification complete\n"
     ]
    }
   ],
   "source": [
    "rasterName = 'meras10kmCellNum.tif'\n",
    "ng.rasterizer()"
   ]
  },
  {
   "cell_type": "markdown",
   "metadata": {},
   "source": [
    "### Raster of the NHG\n",
    "\n",
    "If you want a raster version of the NHG with all defaults, simply instantiate the class and call the NationalRaster method"
   ]
  },
  {
   "cell_type": "code",
   "execution_count": 4,
   "metadata": {},
   "outputs": [
    {
     "name": "stdout",
     "output_type": "stream",
     "text": [
      "Raster complete\n"
     ]
    }
   ],
   "source": [
    "nhg = nt.NHGtools.nhg()\n",
    "nhg.NationalRaster()"
   ]
  },
  {
   "cell_type": "code",
   "execution_count": null,
   "metadata": {},
   "outputs": [],
   "source": []
  }
 ],
 "metadata": {
  "kernelspec": {
   "display_name": "Python 3",
   "language": "python",
   "name": "python3"
  },
  "language_info": {
   "codemirror_mode": {
    "name": "ipython",
    "version": 3
   },
   "file_extension": ".py",
   "mimetype": "text/x-python",
   "name": "python",
   "nbconvert_exporter": "python",
   "pygments_lexer": "ipython3",
   "version": "3.6.4"
  }
 },
 "nbformat": 4,
 "nbformat_minor": 2
}
