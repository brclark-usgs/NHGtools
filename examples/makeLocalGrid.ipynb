{
 "cells": [
  {
   "cell_type": "markdown",
   "metadata": {},
   "source": [
    "# NHGtools\n",
    "\n",
    "use the NHGtools to create a regional model grid of the Mississippi Embayment Regional Aquifer Study area"
   ]
  },
  {
   "cell_type": "code",
   "execution_count": 1,
   "metadata": {
    "collapsed": true
   },
   "outputs": [],
   "source": [
    "import sys\n",
    "sys.path.append('../')\n",
    "import NHGtools as nu"
   ]
  },
  {
   "cell_type": "markdown",
   "metadata": {},
   "source": [
    "### Define coordinates of MERAS study area"
   ]
  },
  {
   "cell_type": "code",
   "execution_count": 2,
   "metadata": {
    "collapsed": true
   },
   "outputs": [],
   "source": [
    "# extent of meras study area in Albers projection\n",
    "\n",
    "merasll = 179844.69,939365.02\n",
    "merasur = 811872.82,1603420.72\n",
    "merasShp = {'ll':merasll,\n",
    "            'lr':[merasur[0], merasll[1]],\n",
    "            'ur':merasur,\n",
    "            'ul':[merasll[0], merasur[1]]}\n",
    "\n",
    "fc = 'MERAS10km' # name of output feature class\n",
    "fac = 10"
   ]
  },
  {
   "cell_type": "markdown",
   "metadata": {},
   "source": [
    "### fit2national\n",
    "\n",
    "use the 'fit2national' function to snap the MERAS coordinates to the NHG with a cell size of 10 km"
   ]
  },
  {
   "cell_type": "code",
   "execution_count": 3,
   "metadata": {},
   "outputs": [
    {
     "name": "stdout",
     "output_type": "stream",
     "text": [
      "national grid\n",
      "{'ll': [-2553045.0, -92715.0], 'lr': [2426955.0, -92715.0], 'ur': [2426955.0, 3907285.0], 'ul': [-2553045.0, 3907285.0]}\n",
      "resolution 10000\n",
      "new local extent\n",
      "{'ll': [176955.0, 937285.0], 'ur': [816955.0, 1607285.0], 'lr': [816955.0, 937285.0], 'ul': [176955.0, 1607285.0]}\n",
      "starting row and col of national grid\n",
      "231.0 274.0\n"
     ]
    }
   ],
   "source": [
    "cellsize, m, icol, irow = nu.fit2national(merasShp, fac=fac)"
   ]
  },
  {
   "cell_type": "markdown",
   "metadata": {},
   "source": [
    "### create the new grid aligned to the NHG\n",
    "\n",
    "use the fctype option to create the grid in the geopackage format"
   ]
  },
  {
   "cell_type": "code",
   "execution_count": 4,
   "metadata": {},
   "outputs": [
    {
     "name": "stdout",
     "output_type": "stream",
     "text": [
      "64 67\n",
      "new cols and rows 64 67\n",
      "64 of 64 cols"
     ]
    }
   ],
   "source": [
    "nu.gcGrid(m, cellsize, icol, irow, fc,\n",
    "       fctype='gpkg')"
   ]
  },
  {
   "cell_type": "markdown",
   "metadata": {},
   "source": [
    "### Rasterize polygons if desired"
   ]
  },
  {
   "cell_type": "code",
   "execution_count": 5,
   "metadata": {},
   "outputs": [],
   "source": [
    "import fishnet as fn\n",
    "import os\n",
    "\n",
    "fc = 'MERAS10km.gpkg'\n",
    "lyr = 'modelgrid'\n",
    "natlGrid = 'meras10kmCellNum.tif'\n",
    "nrow, ncol = fn.calcRowCol(m['ll'], m['lr'], m['ur'], cellsize) \n",
    "\n",
    "nu.rasterizeGrid(fc, natlGrid, lyrName=lyr, nrow=nrow, ncol=ncol,\n",
    "                 upperleft=m['ul'], cellsize=cellsize)"
   ]
  },
  {
   "cell_type": "code",
   "execution_count": null,
   "metadata": {
    "collapsed": true
   },
   "outputs": [],
   "source": []
  }
 ],
 "metadata": {
  "kernelspec": {
   "display_name": "Python 3",
   "language": "python",
   "name": "python3"
  },
  "language_info": {
   "codemirror_mode": {
    "name": "ipython",
    "version": 3
   },
   "file_extension": ".py",
   "mimetype": "text/x-python",
   "name": "python",
   "nbconvert_exporter": "python",
   "pygments_lexer": "ipython3",
   "version": "3.6.2"
  }
 },
 "nbformat": 4,
 "nbformat_minor": 2
}
