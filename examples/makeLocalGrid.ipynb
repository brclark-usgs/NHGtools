{
 "cells": [
  {
   "cell_type": "markdown",
   "metadata": {},
   "source": [
    "# NHGtools\n",
    "\n",
    "use the NHGtools to create a regional model grid of the Mississippi Embayment Regional Aquifer Study area"
   ]
  },
  {
   "cell_type": "code",
   "execution_count": 1,
   "metadata": {},
   "outputs": [],
   "source": [
    "import sys\n",
    "sys.path.append('../')\n",
    "import NHGtools as nt"
   ]
  },
  {
   "cell_type": "markdown",
   "metadata": {},
   "source": [
    "### Define coordinates of MERAS study area"
   ]
  },
  {
   "cell_type": "code",
   "execution_count": 2,
   "metadata": {},
   "outputs": [],
   "source": [
    "# extent of meras study area in Albers projection\n",
    "\n",
    "merasll = 179844.69,939365.02\n",
    "merasur = 811872.82,1603420.72\n",
    "merasShp = {'ll':merasll,\n",
    "            'lr':[merasur[0], merasll[1]],\n",
    "            'ur':merasur,\n",
    "            'ul':[merasll[0], merasur[1]]}\n",
    "\n",
    "fc = 'MERAS10km' # name of output feature class\n",
    "fac = 10"
   ]
  },
  {
   "cell_type": "code",
   "execution_count": 3,
   "metadata": {},
   "outputs": [],
   "source": [
    "# instantiate the class\n",
    "ng = nt.NHGtools.nhg(merasShp, fc='test')"
   ]
  },
  {
   "cell_type": "markdown",
   "metadata": {},
   "source": [
    "### fit2national\n",
    "\n",
    "use the 'fit2national' function to snap the MERAS coordinates to the NHG with a cell size of 10 km"
   ]
  },
  {
   "cell_type": "code",
   "execution_count": 4,
   "metadata": {},
   "outputs": [
    {
     "name": "stdout",
     "output_type": "stream",
     "text": [
      "national grid\n",
      "{'ll': [-2553045.0, -92715.0], 'lr': [2426955.0, -92715.0], 'ur': [2426955.0, 3907285.0], 'ul': [-2553045.0, 3907285.0]}\n",
      "resolution 1000\n",
      "new local extent\n",
      "{'ll': [178955.0, 939285.0], 'ur': [811955.0, 1604285.0], 'lr': [811955.0, 939285.0], 'ul': [178955.0, 1604285.0]}\n",
      "starting row and col of national grid\n",
      "2304 2733\n"
     ]
    }
   ],
   "source": [
    "ng.fit2national()"
   ]
  },
  {
   "cell_type": "markdown",
   "metadata": {},
   "source": [
    "### create the new grid aligned to the NHG\n",
    "\n",
    "use the fctype option to create the grid in the geopackage format"
   ]
  },
  {
   "cell_type": "code",
   "execution_count": 5,
   "metadata": {},
   "outputs": [
    {
     "name": "stdout",
     "output_type": "stream",
     "text": [
      "2733 2304\n"
     ]
    },
    {
     "ename": "AttributeError",
     "evalue": "'nhg' object has no attribute 'icol'",
     "output_type": "error",
     "traceback": [
      "\u001b[0;31m---------------------------------------------------------------------------\u001b[0m",
      "\u001b[0;31mAttributeError\u001b[0m                            Traceback (most recent call last)",
      "\u001b[0;32m<ipython-input-5-dfe464b17863>\u001b[0m in \u001b[0;36m<module>\u001b[0;34m()\u001b[0m\n\u001b[0;32m----> 1\u001b[0;31m \u001b[0mng\u001b[0m\u001b[0;34m.\u001b[0m\u001b[0mcreateGrid\u001b[0m\u001b[0;34m(\u001b[0m\u001b[0;34m)\u001b[0m\u001b[0;34m\u001b[0m\u001b[0m\n\u001b[0m",
      "\u001b[0;32m~/gitrepos/NHGtools/NHGtools/NHGtools.py\u001b[0m in \u001b[0;36mcreateGrid\u001b[0;34m(self)\u001b[0m\n\u001b[1;32m     61\u001b[0m         \u001b[0mtheta\u001b[0m \u001b[0;34m=\u001b[0m \u001b[0;36m0.0\u001b[0m\u001b[0;34m\u001b[0m\u001b[0m\n\u001b[1;32m     62\u001b[0m         \u001b[0mprint\u001b[0m\u001b[0;34m(\u001b[0m\u001b[0mlen\u001b[0m\u001b[0;34m(\u001b[0m\u001b[0mdelc\u001b[0m\u001b[0;34m)\u001b[0m\u001b[0;34m,\u001b[0m \u001b[0mlen\u001b[0m\u001b[0;34m(\u001b[0m\u001b[0mdelr\u001b[0m\u001b[0;34m)\u001b[0m\u001b[0;34m)\u001b[0m\u001b[0;34m\u001b[0m\u001b[0m\n\u001b[0;32m---> 63\u001b[0;31m         \u001b[0mprint\u001b[0m\u001b[0;34m(\u001b[0m\u001b[0;34m'new cols and rows'\u001b[0m\u001b[0;34m,\u001b[0m \u001b[0mself\u001b[0m\u001b[0;34m.\u001b[0m\u001b[0micol\u001b[0m\u001b[0;34m,\u001b[0m \u001b[0mself\u001b[0m\u001b[0;34m.\u001b[0m\u001b[0mirow\u001b[0m\u001b[0;34m)\u001b[0m\u001b[0;34m\u001b[0m\u001b[0m\n\u001b[0m\u001b[1;32m     64\u001b[0m         \u001b[0;31m# irow and icol are ....\u001b[0m\u001b[0;34m\u001b[0m\u001b[0;34m\u001b[0m\u001b[0m\n\u001b[1;32m     65\u001b[0m         fn.mkGrid(self.fc, self.ext['ll'], delc, delr, self.__icol,\n",
      "\u001b[0;31mAttributeError\u001b[0m: 'nhg' object has no attribute 'icol'"
     ]
    }
   ],
   "source": [
    "ng.createGrid()"
   ]
  },
  {
   "cell_type": "markdown",
   "metadata": {},
   "source": [
    "### Rasterize polygons if desired"
   ]
  },
  {
   "cell_type": "code",
   "execution_count": 5,
   "metadata": {},
   "outputs": [],
   "source": [
    "import fishnet as fn\n",
    "import os\n",
    "\n",
    "fc = 'MERAS10km.gpkg'\n",
    "lyr = 'modelgrid'\n",
    "natlGrid = 'meras10kmCellNum.tif'\n",
    "nrow, ncol = fn.calcRowCol(m['ll'], m['lr'], m['ur'], cellsize) \n",
    "\n",
    "nu.rasterizeGrid(fc, natlGrid, lyrName=lyr, nrow=nrow, ncol=ncol,\n",
    "                 upperleft=m['ul'], cellsize=cellsize)"
   ]
  },
  {
   "cell_type": "code",
   "execution_count": null,
   "metadata": {
    "collapsed": true
   },
   "outputs": [],
   "source": []
  }
 ],
 "metadata": {
  "kernelspec": {
   "display_name": "Python 3",
   "language": "python",
   "name": "python3"
  },
  "language_info": {
   "codemirror_mode": {
    "name": "ipython",
    "version": 3
   },
   "file_extension": ".py",
   "mimetype": "text/x-python",
   "name": "python",
   "nbconvert_exporter": "python",
   "pygments_lexer": "ipython3",
   "version": "3.6.4"
  }
 },
 "nbformat": 4,
 "nbformat_minor": 2
}
