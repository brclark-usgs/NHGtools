{
 "cells": [
  {
   "cell_type": "markdown",
   "metadata": {},
   "source": [
    "# NHGtools\n",
    "\n",
    "Use the NHGtools to create a regional model grid of the Mississippi Embayment Regional Aquifer Study area that aligns with the National Hydrogeologic Grid."
   ]
  },
  {
   "cell_type": "code",
   "execution_count": 1,
   "metadata": {
    "collapsed": true
   },
   "outputs": [],
   "source": [
    "import sys\n",
    "sys.path.append('../')\n",
    "import NHGtools as nt"
   ]
  },
  {
   "cell_type": "markdown",
   "metadata": {},
   "source": [
    "### Define desired area\n",
    "\n",
    "For this example, we'll intially use coordinates of the previous MERAS study area.\n",
    "We also need to define a name for the output feature class.\n",
    "\n",
    "The default output format for the feature class is a geopackage. This can be changed to a shapefile by specifying the fctype as 'shp'."
   ]
  },
  {
   "cell_type": "code",
   "execution_count": 2,
   "metadata": {
    "collapsed": true
   },
   "outputs": [],
   "source": [
    "# extent of meras study area in Albers projection\n",
    "\n",
    "merasll = 179844.69,939365.02\n",
    "merasur = 811872.82,1603420.72\n",
    "merasShp = {'ll':merasll,\n",
    "            'lr':[merasur[0], merasll[1]],\n",
    "            'ur':merasur,\n",
    "            'ul':[merasll[0], merasur[1]]}\n",
    "\n",
    "fc = 'MERAS1km' # name of output feature class\n",
    "fctype = 'gpkg'"
   ]
  },
  {
   "cell_type": "code",
   "execution_count": 3,
   "metadata": {
    "collapsed": true
   },
   "outputs": [],
   "source": [
    "# instantiate the class\n",
    "ng = nt.NHGtools(merasShp, fc=fc, fctype=fctype)"
   ]
  },
  {
   "cell_type": "markdown",
   "metadata": {},
   "source": [
    "### Create a polygon feature class of the new grid aligned to the NHG"
   ]
  },
  {
   "cell_type": "code",
   "execution_count": 4,
   "metadata": {},
   "outputs": [
    {
     "name": "stdout",
     "output_type": "stream",
     "text": [
      "national grid\n",
      "{'ll': [-2553045.0, -92715.0], 'lr': [2426955.0, -92715.0], 'ur': [2426955.0, 3907285.0], 'ul': [-2553045.0, 3907285.0]}\n",
      "new local extent\n",
      "{'ll': [178955.0, 939285.0], 'ur': [811955.0, 1604285.0], 'lr': [811955.0, 939285.0], 'ul': [178955.0, 1604285.0]}\n",
      "starting row and col of national grid\n",
      "2304 2733\n",
      "number of rows, columns, and cellsize of new grid\n",
      "665 633 1000\n",
      "new cols and rows 633 665\n",
      "665 of 665 rows"
     ]
    }
   ],
   "source": [
    "ng.customPolyGrid()"
   ]
  },
  {
   "cell_type": "markdown",
   "metadata": {},
   "source": [
    "### Rasterize the newly created polygons if desired"
   ]
  },
  {
   "cell_type": "code",
   "execution_count": 4,
   "metadata": {},
   "outputs": [
    {
     "name": "stdout",
     "output_type": "stream",
     "text": [
      "national grid\n",
      "{'ll': [-2553045.0, -92715.0], 'lr': [2426955.0, -92715.0], 'ur': [2426955.0, 3907285.0], 'ul': [-2553045.0, 3907285.0]}\n",
      "new local extent\n",
      "{'ll': [178955.0, 939285.0], 'ur': [811955.0, 1604285.0], 'lr': [811955.0, 939285.0], 'ul': [178955.0, 1604285.0]}\n",
      "starting row and col of national grid\n",
      "2304 2733\n",
      "number of rows, columns, and cellsize of new grid\n",
      "665 633 1000\n",
      "Rasterizification complete\n"
     ]
    }
   ],
   "source": [
    "rasterName = 'meras1kmCellNum.tif'\n",
    "ng.rasterizer(rasterName=rasterName)"
   ]
  },
  {
   "cell_type": "markdown",
   "metadata": {},
   "source": [
    "### Raster of the NHG\n",
    "\n",
    "To create a raster version of the NHG with all defaults, simply instantiate the class and call the NationalRaster method. The values of the grid are equal to the NHG cell numbers."
   ]
  },
  {
   "cell_type": "code",
   "execution_count": 2,
   "metadata": {},
   "outputs": [
    {
     "name": "stdout",
     "output_type": "stream",
     "text": [
      "Raster complete\n"
     ]
    }
   ],
   "source": [
    "ng = nt.NHGtools()\n",
    "ng.NationalRaster()"
   ]
  },
  {
   "cell_type": "markdown",
   "metadata": {},
   "source": [
    "### Polygon of the NHG\n",
    "\n",
    "To create a polygon version of the NHG with all defaults, instantiate the class and call the NationalPoly() method."
   ]
  },
  {
   "cell_type": "code",
   "execution_count": 3,
   "metadata": {},
   "outputs": [
    {
     "name": "stdout",
     "output_type": "stream",
     "text": [
      "4000 of 4000 rows"
     ]
    }
   ],
   "source": [
    "ng = nt.NHGtools()\n",
    "ng.NationalPoly()"
   ]
  },
  {
   "cell_type": "code",
   "execution_count": null,
   "metadata": {
    "collapsed": true
   },
   "outputs": [],
   "source": []
  }
 ],
 "metadata": {
  "kernelspec": {
   "display_name": "Python 3",
   "language": "python",
   "name": "python3"
  },
  "language_info": {
   "codemirror_mode": {
    "name": "ipython",
    "version": 3
   },
   "file_extension": ".py",
   "mimetype": "text/x-python",
   "name": "python",
   "nbconvert_exporter": "python",
   "pygments_lexer": "ipython3",
   "version": "3.6.2"
  }
 },
 "nbformat": 4,
 "nbformat_minor": 2
}
